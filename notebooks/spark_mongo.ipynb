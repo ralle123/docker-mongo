{
 "cells": [
  {
   "cell_type": "code",
   "execution_count": 6,
   "id": "e14cd9f1-59bc-410c-b097-d12bcfbf152b",
   "metadata": {
    "tags": []
   },
   "outputs": [],
   "source": [
    "from pyspark.sql import SparkSession\n",
    "import pymongo\n",
    "\n",
    "spark = SparkSession.\\\n",
    "        builder.\\\n",
    "        appName(\"pyspark-notebook2\").\\\n",
    "        master(\"local[*]\").\\\n",
    "        config(\"spark.executor.memory\", \"1g\").\\\n",
    "        config(\"spark.mongodb.input.uri\",\"mongodb://172.22.0.2:27017/student.grades\").\\\n",
    "        config(\"spark.mongodb.output.uri\",\"mongodb://172.22.0.2:27017/student.grades\").\\\n",
    "        config(\"spark.jars.packages\", \"org.mongodb.spark:mongo-spark-connector_2.12:3.0.0\").\\\n",
    "        getOrCreate()\n",
    "\n",
    "logger = spark._jvm.org.apache.log4j\n",
    "logger.LogManager.getRootLogger().setLevel(logger.Level.FATAL)\n",
    "\n",
    "    \n",
    "# read from MongoDB collection\n",
    "df = spark.read.format(\"mongo\").load()"
   ]
  },
  {
   "cell_type": "code",
   "execution_count": 7,
   "id": "e57b987a-60f1-4ceb-8aaf-3cbbe6dfb4d1",
   "metadata": {},
   "outputs": [
    {
     "name": "stdout",
     "output_type": "stream",
     "text": [
      "+--------------------+-----+--------+---------+\n",
      "|                 _id|grade|    name|telephone|\n",
      "+--------------------+-----+--------+---------+\n",
      "|{64656cd842b78f63...|   30|    raul|     null|\n",
      "|{64656d0742b78f63...|   55|    paul|  1234567|\n",
      "|{64656e0e42b78f63...|   88| charles|     null|\n",
      "|{64656f2342b78f63...|   99|    fifi|     null|\n",
      "|{64656f2342b78f63...|   75|pinochio|     null|\n",
      "|{6465a5a2affbd2fb...|   70| charles|     null|\n",
      "+--------------------+-----+--------+---------+\n",
      "\n"
     ]
    }
   ],
   "source": [
    "df.show()"
   ]
  },
  {
   "cell_type": "code",
   "execution_count": 8,
   "id": "da035ebc-ae33-43de-b8fd-a3a9ea09befa",
   "metadata": {
    "tags": []
   },
   "outputs": [
    {
     "name": "stdout",
     "output_type": "stream",
     "text": [
      "root\n",
      " |-- _id: struct (nullable = true)\n",
      " |    |-- oid: string (nullable = true)\n",
      " |-- grade: integer (nullable = true)\n",
      " |-- name: string (nullable = true)\n",
      " |-- telephone: integer (nullable = true)\n",
      "\n"
     ]
    }
   ],
   "source": [
    "df.printSchema()"
   ]
  },
  {
   "cell_type": "code",
   "execution_count": 9,
   "id": "ff123fad-9df3-491a-a986-11283319eabe",
   "metadata": {
    "tags": []
   },
   "outputs": [],
   "source": [
    "from pyspark.sql.window import Window\n",
    "from pyspark.sql import functions as F\n",
    "movAvg = df.withColumn(\"gradeaverage\", F.avg(\"grade\")\n",
    ".over( Window.partitionBy(\"name\").rowsBetween(-1,1)) )"
   ]
  },
  {
   "cell_type": "code",
   "execution_count": 10,
   "id": "cb251880-7257-4fbf-a5b5-61d6f31c2969",
   "metadata": {
    "tags": []
   },
   "outputs": [
    {
     "name": "stdout",
     "output_type": "stream",
     "text": [
      "+--------------------+-----+--------+---------+------------+\n",
      "|                 _id|grade|    name|telephone|gradeaverage|\n",
      "+--------------------+-----+--------+---------+------------+\n",
      "|{64656e0e42b78f63...|   88| charles|     null|        79.0|\n",
      "|{6465a5a2affbd2fb...|   70| charles|     null|        79.0|\n",
      "|{64656f2342b78f63...|   99|    fifi|     null|        99.0|\n",
      "|{64656d0742b78f63...|   55|    paul|  1234567|        55.0|\n",
      "|{64656f2342b78f63...|   75|pinochio|     null|        75.0|\n",
      "|{64656cd842b78f63...|   30|    raul|     null|        30.0|\n",
      "+--------------------+-----+--------+---------+------------+\n",
      "\n"
     ]
    }
   ],
   "source": [
    "movAvg.show()"
   ]
  },
  {
   "cell_type": "code",
   "execution_count": null,
   "id": "9bc23368-4b9b-4826-81b4-217f3f7067a3",
   "metadata": {},
   "outputs": [],
   "source": []
  }
 ],
 "metadata": {
  "kernelspec": {
   "display_name": "Python 3 (ipykernel)",
   "language": "python",
   "name": "python3"
  },
  "language_info": {
   "codemirror_mode": {
    "name": "ipython",
    "version": 3
   },
   "file_extension": ".py",
   "mimetype": "text/x-python",
   "name": "python",
   "nbconvert_exporter": "python",
   "pygments_lexer": "ipython3",
   "version": "3.10.11"
  }
 },
 "nbformat": 4,
 "nbformat_minor": 5
}
