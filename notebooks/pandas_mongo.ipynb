{
 "cells": [
  {
   "cell_type": "code",
   "execution_count": 1,
   "id": "a6d2ab21-0d5c-4a5f-bb6a-5f05d48d8de6",
   "metadata": {
    "tags": []
   },
   "outputs": [],
   "source": [
    "import pymongo\n",
    "import pandas as pd\n",
    "from pymongo import MongoClient"
   ]
  },
  {
   "cell_type": "code",
   "execution_count": 6,
   "id": "80e48294-ac69-4499-ba4f-dc61cec4a145",
   "metadata": {
    "tags": []
   },
   "outputs": [],
   "source": [
    "client = MongoClient()\n",
    "# docker inspect 5cc72d4ba8c2\n",
    "#point the client at mongo URI\n",
    "client = MongoClient('172.22.0.2',27017)\n",
    "# client = MongoClient(mongodb,27017)\n",
    "#select database\n",
    "db = client['student']\n",
    "#select the collection within the database\n",
    "test = db.grades\n",
    "#convert entire collection to Pandas dataframe\n",
    "test = pd.DataFrame(list(test.find()))"
   ]
  },
  {
   "cell_type": "code",
   "execution_count": 7,
   "id": "887ec43e-6697-492e-8eac-23c56dc82f14",
   "metadata": {
    "tags": []
   },
   "outputs": [
    {
     "data": {
      "text/html": [
       "<div>\n",
       "<style scoped>\n",
       "    .dataframe tbody tr th:only-of-type {\n",
       "        vertical-align: middle;\n",
       "    }\n",
       "\n",
       "    .dataframe tbody tr th {\n",
       "        vertical-align: top;\n",
       "    }\n",
       "\n",
       "    .dataframe thead th {\n",
       "        text-align: right;\n",
       "    }\n",
       "</style>\n",
       "<table border=\"1\" class=\"dataframe\">\n",
       "  <thead>\n",
       "    <tr style=\"text-align: right;\">\n",
       "      <th></th>\n",
       "      <th>_id</th>\n",
       "      <th>name</th>\n",
       "      <th>grade</th>\n",
       "      <th>telephone</th>\n",
       "    </tr>\n",
       "  </thead>\n",
       "  <tbody>\n",
       "    <tr>\n",
       "      <th>0</th>\n",
       "      <td>64656cd842b78f6365618050</td>\n",
       "      <td>raul</td>\n",
       "      <td>30</td>\n",
       "      <td>NaN</td>\n",
       "    </tr>\n",
       "    <tr>\n",
       "      <th>1</th>\n",
       "      <td>64656d0742b78f6365618051</td>\n",
       "      <td>paul</td>\n",
       "      <td>55</td>\n",
       "      <td>1234567.0</td>\n",
       "    </tr>\n",
       "    <tr>\n",
       "      <th>2</th>\n",
       "      <td>64656e0e42b78f6365618052</td>\n",
       "      <td>charles</td>\n",
       "      <td>88</td>\n",
       "      <td>NaN</td>\n",
       "    </tr>\n",
       "    <tr>\n",
       "      <th>3</th>\n",
       "      <td>64656f2342b78f6365618055</td>\n",
       "      <td>fifi</td>\n",
       "      <td>99</td>\n",
       "      <td>NaN</td>\n",
       "    </tr>\n",
       "    <tr>\n",
       "      <th>4</th>\n",
       "      <td>64656f2342b78f6365618056</td>\n",
       "      <td>pinochio</td>\n",
       "      <td>75</td>\n",
       "      <td>NaN</td>\n",
       "    </tr>\n",
       "  </tbody>\n",
       "</table>\n",
       "</div>"
      ],
      "text/plain": [
       "                        _id      name  grade  telephone\n",
       "0  64656cd842b78f6365618050      raul     30        NaN\n",
       "1  64656d0742b78f6365618051      paul     55  1234567.0\n",
       "2  64656e0e42b78f6365618052   charles     88        NaN\n",
       "3  64656f2342b78f6365618055      fifi     99        NaN\n",
       "4  64656f2342b78f6365618056  pinochio     75        NaN"
      ]
     },
     "execution_count": 7,
     "metadata": {},
     "output_type": "execute_result"
    }
   ],
   "source": [
    "test"
   ]
  },
  {
   "cell_type": "code",
   "execution_count": null,
   "id": "52521eba-6850-4bc3-8155-2fe7ee3de951",
   "metadata": {},
   "outputs": [],
   "source": []
  }
 ],
 "metadata": {
  "kernelspec": {
   "display_name": "Python 3 (ipykernel)",
   "language": "python",
   "name": "python3"
  },
  "language_info": {
   "codemirror_mode": {
    "name": "ipython",
    "version": 3
   },
   "file_extension": ".py",
   "mimetype": "text/x-python",
   "name": "python",
   "nbconvert_exporter": "python",
   "pygments_lexer": "ipython3",
   "version": "3.10.11"
  }
 },
 "nbformat": 4,
 "nbformat_minor": 5
}
